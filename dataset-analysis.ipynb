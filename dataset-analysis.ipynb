{
 "cells": [
  {
   "cell_type": "markdown",
   "metadata": {},
   "source": [
    "# Dataset analysis\n",
    "\n",
    "Recognition of car traffic lights based on visual observation using convolutional networks."
   ]
  },
  {
   "cell_type": "markdown",
   "metadata": {},
   "source": [
    "### Loading libraries\n",
    "\n",
    "Configuration of the development environment by loading the appropriate libraries and modules."
   ]
  },
  {
   "cell_type": "code",
   "execution_count": 2,
   "metadata": {},
   "outputs": [],
   "source": [
    "import json\n",
    "import numpy as np                      # Support for linear algebra\n",
    "import pandas as pd                     # Support for working with data and support for loading data from CSV files\n",
    "import duplicates                       # Search for duplicate files\n",
    "from PIL import Image                   # An image class from the PIL library, an alternative to OpenCV\n",
    "import os                               # Access to operating system functions (including access to the file system)\n",
    "from matplotlib import pyplot as plt    # Support for drawing graphs\n",
    "\n",
    "%matplotlib inline"
   ]
  },
  {
   "cell_type": "markdown",
   "metadata": {},
   "source": [
    "### Declare constants"
   ]
  },
  {
   "cell_type": "code",
   "execution_count": 3,
   "metadata": {},
   "outputs": [],
   "source": [
    "LABEL_FILE = \"Bochum.json\""
   ]
  },
  {
   "cell_type": "markdown",
   "metadata": {},
   "source": [
    "### Loading data"
   ]
  },
  {
   "cell_type": "code",
   "execution_count": 4,
   "metadata": {},
   "outputs": [],
   "source": [
    "with open(LABEL_FILE, \"r\") as fp:\n",
    "    images = json.load(fp)\n",
    "\n",
    "files_count = 0\n",
    "image_paths = []\n",
    "label_dfs = []\n",
    "\n",
    "for image in images[\"images\"]:\n",
    "\n",
    "    image_paths.append(image['image_path'])\n",
    "\n",
    "    files_count += 1\n",
    "\n",
    "    #TODO: ([at for at in label_df.loc[:,\"attributes\"] ])?\n",
    "    label_dfs.append(pd.DataFrame(image[\"labels\"]))\n",
    "\n",
    "label_df = pd.concat(label_dfs)\n",
    "attributes_df = pd.DataFrame([at for at in label_df.loc[:,\"attributes\"] ])\n",
    "\n",
    "print(\"File count: \", files_count)"
   ]
  },
  {
   "cell_type": "markdown",
   "metadata": {},
   "source": [
    "## Studying the properties of a dataset\n",
    "\n",
    "Once you have loaded the annotation data, you need to analyze the properties of the information available. Good knowledge of the data set will allow you to make the right decisions when designing the detector and will allow for an in-depth understanding of the problem. Conclusions from the entire process can be found at the end of this chapter."
   ]
  },
  {
   "cell_type": "markdown",
   "metadata": {},
   "source": [
    "### 1. Search for missing values\n",
    "\n",
    "The first step in examining the training set is to search the columns for missing values. In many datasets, it happens that individual values are missing in different columns. For example, in a single-family home information set, the \"Garage Size\" column may not have a value for some homes. This may mean no garage in this case. This will allow us to determine if additional data preprocessing steps, such as injecting values, will be necessary."
   ]
  },
  {
   "cell_type": "code",
   "execution_count": 6,
   "metadata": {},
   "outputs": [
    {
     "name": "stdout",
     "output_type": "stream",
     "text": [
      "Empty values\n",
      "attributes    0\n",
      "h             0\n",
      "track_id      0\n",
      "unique_id     0\n",
      "w             0\n",
      "x             0\n",
      "y             0\n",
      "dtype: int64\n",
      "aspects        0\n",
      "direction      0\n",
      "occlusion      0\n",
      "orientation    0\n",
      "pictogram      0\n",
      "reflection     0\n",
      "relevance      0\n",
      "state          0\n",
      "dtype: int64\n"
     ]
    }
   ],
   "source": [
    "print(\"Empty values\")\n",
    "display(label_df.isnull().sum())\n",
    "display(attributes_df.isnull().sum())"
   ]
  },
  {
   "cell_type": "markdown",
   "metadata": {},
   "source": [
    "### 2. Check for duplicate files\n",
    "\n",
    "The presence of duplicates in datasets should also be investigated. In order to ensure appropriate conditions for the learning process, it is important to ensure that all samples are unique. For this purpose, we will use the external library `Duplicate Finder` available at https://github.com/akcarsten/Duplicate-Finder. This library uses the SHA256 algorithm to compute a unique hash value for each file. The probability of two files colliding is so small that it is negligible in practice.\n",
    "\n",
    "From the results, repetitions related to the existence of catalogs with sample sequences should be filtered out. The authors of the dataset simply copied individual sequences with their dedicated annotations and placed them in a common directory. The name of these directories starts with the `sample` prefix, which will make it easier to filter them out."
   ]
  },
  {
   "cell_type": "code",
   "execution_count": 7,
   "metadata": {},
   "outputs": [
    {
     "name": "stdout",
     "output_type": "stream",
     "text": [
      "/home/yarwest/Code/mentoring/asia/traffic-light/dtld_parsing/Bochum/Bochum1/2015-04-21_17-30-07/DE_BBBR667_2015-04-21_17-30-08-347587_nativeV2.tiff\n",
      "Number of duplicates = 0\n",
      "Duplicates:\n",
      "Series([], Name: file, dtype: object)\n"
     ]
    }
   ],
   "source": [
    "# Downloading a list of all duplicate files with their hashes\n",
    "all_duplicates = duplicates.list_all_duplicates(LABEL_FILE.replace(\".json\", \"\"), ext=\".tiff\", fastscan=True)\n",
    "\n",
    "print()\n",
    "print(f'Number of duplicates = {all_duplicates[\"hash\"].nunique()}')\n",
    "print(\"Duplicates:\")\n",
    "print(all_duplicates[\"file\"])"
   ]
  },
  {
   "cell_type": "markdown",
   "metadata": {},
   "source": [
    "### 3. Study of frame properties\n",
    "\n",
    "When using convolutional neural networks, make sure that the dimensions of all images fed into the network input are the same. To do this, we will iterate through all the graphics available in the dataset and collect their properties in the Pandas table. We will use the PIL library, which when opening an image file does not immediately load it into memory, which will significantly speed up the whole process. The image parameters that we will pay special attention to are:\n",
    "\n",
    "- width in pixels\n",
    "\n",
    "- height in pixels\n",
    "\n",
    "- graphic file format\n",
    "\n",
    "- number of channels"
   ]
  },
  {
   "cell_type": "code",
   "execution_count": 9,
   "metadata": {},
   "outputs": [
    {
     "name": "stdout",
     "output_type": "stream",
     "text": [
      "Zliczanie unikalnych parametrów klatek:\n",
      "width  height  format  mode\n",
      "2048   1024    TIFF    I;16    539\n",
      "Name: count, dtype: int64\n"
     ]
    }
   ],
   "source": [
    "img_properties_dict = {\"name\": [], \"width\": [], \"height\": [], \"format\": [], \"mode\": []}\n",
    "\n",
    "for image_path in image_paths:\n",
    "    img = Image.open(image_path)\n",
    "    name = os.path.basename(image_path)\n",
    "    img_properties_dict[\"name\"].append(name)\n",
    "    img_properties_dict[\"width\"].append(img.width)\n",
    "    img_properties_dict[\"height\"].append(img.height)\n",
    "    img_properties_dict[\"format\"].append(img.format)\n",
    "    img_properties_dict[\"mode\"].append(img.mode)\n",
    "\n",
    "img_properties = pd.DataFrame(img_properties_dict)\n",
    "\n",
    "print(\"Counting unique frame parameters:\")\n",
    "img_properties_groups = img_properties.drop([\"name\"], axis=1).value_counts()\n",
    "display(img_properties_groups)"
   ]
  },
  {
   "cell_type": "markdown",
   "metadata": {},
   "source": [
    "### 4. State Probability Distribution Study\n",
    "\n",
    "The next important step is to examine the number of states (color of the traffic light) and their portion of the dataset."
   ]
  },
  {
   "cell_type": "code",
   "execution_count": 10,
   "metadata": {},
   "outputs": [
    {
     "name": "stdout",
     "output_type": "stream",
     "text": [
      "Traffic light states:\n",
      "['green' 'red' 'yellow' 'red_yellow' 'off' 'unknown']\n",
      "Probability distribution and class size:\n"
     ]
    },
    {
     "data": {
      "text/html": [
       "<div>\n",
       "<style scoped>\n",
       "    .dataframe tbody tr th:only-of-type {\n",
       "        vertical-align: middle;\n",
       "    }\n",
       "\n",
       "    .dataframe tbody tr th {\n",
       "        vertical-align: top;\n",
       "    }\n",
       "\n",
       "    .dataframe thead th {\n",
       "        text-align: right;\n",
       "    }\n",
       "</style>\n",
       "<table border=\"1\" class=\"dataframe\">\n",
       "  <thead>\n",
       "    <tr style=\"text-align: right;\">\n",
       "      <th></th>\n",
       "      <th>Count</th>\n",
       "      <th>Frequency</th>\n",
       "    </tr>\n",
       "    <tr>\n",
       "      <th>state</th>\n",
       "      <th></th>\n",
       "      <th></th>\n",
       "    </tr>\n",
       "  </thead>\n",
       "  <tbody>\n",
       "    <tr>\n",
       "      <th>green</th>\n",
       "      <td>1621</td>\n",
       "      <td>0.558773</td>\n",
       "    </tr>\n",
       "    <tr>\n",
       "      <th>red</th>\n",
       "      <td>876</td>\n",
       "      <td>0.301965</td>\n",
       "    </tr>\n",
       "    <tr>\n",
       "      <th>off</th>\n",
       "      <td>136</td>\n",
       "      <td>0.046880</td>\n",
       "    </tr>\n",
       "    <tr>\n",
       "      <th>yellow</th>\n",
       "      <td>121</td>\n",
       "      <td>0.041710</td>\n",
       "    </tr>\n",
       "    <tr>\n",
       "      <th>unknown</th>\n",
       "      <td>78</td>\n",
       "      <td>0.026887</td>\n",
       "    </tr>\n",
       "    <tr>\n",
       "      <th>red_yellow</th>\n",
       "      <td>69</td>\n",
       "      <td>0.023785</td>\n",
       "    </tr>\n",
       "  </tbody>\n",
       "</table>\n",
       "</div>"
      ],
      "text/plain": [
       "            Count  Frequency\n",
       "state                       \n",
       "green        1621   0.558773\n",
       "red           876   0.301965\n",
       "off           136   0.046880\n",
       "yellow        121   0.041710\n",
       "unknown        78   0.026887\n",
       "red_yellow     69   0.023785"
      ]
     },
     "metadata": {},
     "output_type": "display_data"
    },
    {
     "data": {
      "image/png": "[encoded data removed]",
      "text/plain": [
       "<Figure size 640x480 with 1 Axes>"
      ]
     },
     "metadata": {},
     "output_type": "display_data"
    }
   ],
   "source": [
    "states = attributes_df[\"state\"].unique()\n",
    "print(\"Traffic light states:\")\n",
    "print(states)\n",
    "\n",
    "states_count = attributes_df[\"state\"].value_counts()\n",
    "states_freq = attributes_df[\"state\"].value_counts(normalize=True)\n",
    "states_params = pd.DataFrame({\"Count\": states_count, \"Frequency\": states_freq})\n",
    "print(\"Probability distribution and class size:\")\n",
    "display(states_params)\n",
    "\n",
    "states_count.plot(\n",
    "    kind=\"bar\",\n",
    "    title=f'Numbers of individual states of traffic lights in the dataset',\n",
    "    rot=45,\n",
    ")\n",
    "plt.show()"
   ]
  },
  {
   "cell_type": "markdown",
   "metadata": {},
   "source": [
    "### Pictogram Probability Distribution Study\n",
    "\n",
    "The next important step is to examine the number of pictograms and their portion of the dataset."
   ]
  },
  {
   "cell_type": "code",
   "execution_count": 12,
   "metadata": {},
   "outputs": [
    {
     "name": "stdout",
     "output_type": "stream",
     "text": [
      "Traffic light pictograms:\n",
      "['arrow_left' 'circle' 'pedestrian' 'tram' 'unknown' 'bicycle'\n",
      " 'arrow_right' 'arrow_straight']\n",
      "Probability distribution and class size:\n"
     ]
    },
    {
     "data": {
      "text/html": [
       "<div>\n",
       "<style scoped>\n",
       "    .dataframe tbody tr th:only-of-type {\n",
       "        vertical-align: middle;\n",
       "    }\n",
       "\n",
       "    .dataframe tbody tr th {\n",
       "        vertical-align: top;\n",
       "    }\n",
       "\n",
       "    .dataframe thead th {\n",
       "        text-align: right;\n",
       "    }\n",
       "</style>\n",
       "<table border=\"1\" class=\"dataframe\">\n",
       "  <thead>\n",
       "    <tr style=\"text-align: right;\">\n",
       "      <th></th>\n",
       "      <th>Count</th>\n",
       "      <th>Frequency</th>\n",
       "    </tr>\n",
       "    <tr>\n",
       "      <th>pictogram</th>\n",
       "      <th></th>\n",
       "      <th></th>\n",
       "    </tr>\n",
       "  </thead>\n",
       "  <tbody>\n",
       "    <tr>\n",
       "      <th>circle</th>\n",
       "      <td>1662</td>\n",
       "      <td>0.572906</td>\n",
       "    </tr>\n",
       "    <tr>\n",
       "      <th>arrow_left</th>\n",
       "      <td>416</td>\n",
       "      <td>0.143399</td>\n",
       "    </tr>\n",
       "    <tr>\n",
       "      <th>pedestrian</th>\n",
       "      <td>352</td>\n",
       "      <td>0.121337</td>\n",
       "    </tr>\n",
       "    <tr>\n",
       "      <th>tram</th>\n",
       "      <td>206</td>\n",
       "      <td>0.071010</td>\n",
       "    </tr>\n",
       "    <tr>\n",
       "      <th>unknown</th>\n",
       "      <td>104</td>\n",
       "      <td>0.035850</td>\n",
       "    </tr>\n",
       "    <tr>\n",
       "      <th>arrow_right</th>\n",
       "      <td>65</td>\n",
       "      <td>0.022406</td>\n",
       "    </tr>\n",
       "    <tr>\n",
       "      <th>arrow_straight</th>\n",
       "      <td>63</td>\n",
       "      <td>0.021717</td>\n",
       "    </tr>\n",
       "    <tr>\n",
       "      <th>bicycle</th>\n",
       "      <td>33</td>\n",
       "      <td>0.011375</td>\n",
       "    </tr>\n",
       "  </tbody>\n",
       "</table>\n",
       "</div>"
      ],
      "text/plain": [
       "                Count  Frequency\n",
       "pictogram                       \n",
       "circle           1662   0.572906\n",
       "arrow_left        416   0.143399\n",
       "pedestrian        352   0.121337\n",
       "tram              206   0.071010\n",
       "unknown           104   0.035850\n",
       "arrow_right        65   0.022406\n",
       "arrow_straight     63   0.021717\n",
       "bicycle            33   0.011375"
      ]
     },
     "metadata": {},
     "output_type": "display_data"
    },
    {
     "data": {
      "image/png": "[encoded data removed]",
      "text/plain": [
       "<Figure size 640x480 with 1 Axes>"
      ]
     },
     "metadata": {},
     "output_type": "display_data"
    }
   ],
   "source": [
    "pictogram = attributes_df[\"pictogram\"].unique()\n",
    "print(\"Traffic light pictograms:\")\n",
    "print(pictogram)\n",
    "\n",
    "pictogram_count = attributes_df[\"pictogram\"].value_counts()\n",
    "pictogram_freq = attributes_df[\"pictogram\"].value_counts(normalize=True)\n",
    "pictogram_params = pd.DataFrame({\"Count\": pictogram_count, \"Frequency\": pictogram_freq})\n",
    "print(\"Probability distribution and class size:\")\n",
    "display(pictogram_params)\n",
    "\n",
    "pictogram_count.plot(\n",
    "    kind=\"bar\",\n",
    "    title=f'Numbers of individual pictograms of traffic lights in the dataset',\n",
    "    rot=45,\n",
    ")\n",
    "plt.show()"
   ]
  },
  {
   "cell_type": "markdown",
   "metadata": {},
   "source": [
    "### Direction Probability Distribution Study\n",
    "\n",
    "The dataset also contains label data for traffic lights which are seen from behind or the side. These instances might not provide useful references for our model so it would be wise to see how big of a portion of the data set they are.\n",
    "\n",
    "(TODO??) see how many traffic lights with direction 'back' have state 'off' or 'unknown'"
   ]
  },
  {
   "cell_type": "code",
   "execution_count": null,
   "metadata": {},
   "outputs": [],
   "source": [
    "directions = attributes_df[\"direction\"].unique()\n",
    "print(\"Traffic light directions:\")\n",
    "print(directions)\n",
    "\n",
    "directions_count = attributes_df[\"direction\"].value_counts()\n",
    "directions_freq = attributes_df[\"direction\"].value_counts(normalize=True)\n",
    "directions_params = pd.DataFrame({\"Count\": directions_count, \"Frequency\": directions_freq})\n",
    "print(\"Probability distribution and class size:\")\n",
    "display(directions_params)\n",
    "\n",
    "directions_count.plot(\n",
    "    kind=\"bar\",\n",
    "    title=f'Numbers of individual directions of traffic lights in the dataset',\n",
    "    rot=45,\n",
    ")\n",
    "plt.show()"
   ]
  },
  {
   "cell_type": "code",
   "execution_count": null,
   "metadata": {},
   "outputs": [],
   "source": [
    "### Observations and conclusions\n",
    "\n",
    "The following list contains all the observations and conclusions based on the results obtained in the other sections of this document:\n",
    "\n",
    "- The labels in the data set exhibit no instances of missing or empty values, indicating a high level of data completeness. Thus additional data preprocessing operations will not be needed.\n",
    "\n",
    "- There are 40978 frames in total. This is a very large sample, which has a positive effect on the quality of training the neural network.\n",
    "\n",
    "- The dataset does not contain duplicate frames, so there is no chance of overrepresentation of individual features of specific images.\n",
    "\n",
    "- The images within the dataset all share consistent properties. They have dimensions of 2048×1024 pixels & TIFF file format. REMOVE -> ???The size of the graphics is quite large considering the fact that they will be used in the process of teaching the neural network. This will have a negative impact on the time of network training as well as on the consumption of hardware resources (especially the memory of the graphics processor).\n",
    "\n",
    "- The most prevelant traffic light states (excluding 'unknown') are 'green' and 'red'. There are several times more of them than each of the other classes and in total they constitute over 60% of the data set. This distribution can potentially impact the performance of any model trained on this data set, especially due to the imbalance between green and yellow states.\n",
    "\n",
    "- The 'unknown' traffic light state makes up 27% of all data points, which could potentially harm the reliability of the model as these traffic lights might not be properly visible or photographed from an angle that obstructs their visibility.\n",
    "\n",
    "- 'yellow', 'red_yellow' & 'off' have a frequency of less than 10%. Underrepresentation of these classes may prevent us from achieving a sufficiently good precision in detecting them. Despite the large amount of training data, there is a suspicion that the detection efficiency of these signals may not be sufficient for the network to be used in real-life conditions, where almost 100% is required in every case.\n",
    "\n",
    "- Due to the fact that the data set is based on sequential recordings, and not on random photos, the distribution of states in our dataset reflects real-world traffic light dynamics and provides insight into their usage patterns. For example, a warning light (yellow) is lit much shorter than a red or green light, and this fact is reflected in the shortage of the `yellow` and `red_yellow` states within our data.\n",
    "\n",
    "- The most prevelant traffic light pictograms (excluding 'unknown') are 'circle' (43%) and 'pedestrian' (20%). This distribution can have a big impact on the performance of any model trained on this data set.\n",
    "\n",
    "- 'tram', 'arrow_straight', 'bicycle', 'pedestrian_bicycle', 'arrow_right', 'arrow_straight_left' are all less than 5% of the data set, which can lead to dificulties with the recognition of such traffic lights.\n",
    "\n",
    "(TODO?? see if train & test data seperately have good distribution)\n",
    "Based on this research, we can make a final decision on how to work with the dataset. The division into train and test subsets can be used as proposed by the authors of the data set."
   ]
  }
 ],
 "metadata": {
  "kernelspec": {
   "display_name": ".venv",
   "language": "python",
   "name": "python3"
  },
  "language_info": {
   "codemirror_mode": {
    "name": "ipython",
    "version": 3
   },
   "file_extension": ".py",
   "mimetype": "text/x-python",
   "name": "python",
   "nbconvert_exporter": "python",
   "pygments_lexer": "ipython3",
   "version": "3.10.12"
  },
  "orig_nbformat": 4
 },
 "nbformat": 4,
 "nbformat_minor": 2
}
